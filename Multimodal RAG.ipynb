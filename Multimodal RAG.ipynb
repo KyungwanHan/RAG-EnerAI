{
 "cells": [
  {
   "cell_type": "code",
   "execution_count": 5,
   "id": "5b40a1a8-178d-4f09-99d8-00adb764f249",
   "metadata": {},
   "outputs": [],
   "source": [
    "!rm -rf ./figures"
   ]
  },
  {
   "cell_type": "code",
   "execution_count": 6,
   "id": "2d5bde7b-c7a8-49c6-9311-54c216fd6646",
   "metadata": {},
   "outputs": [
    {
     "name": "stdout",
     "output_type": "stream",
     "text": [
      "Loading ./references/1.pdf\n",
      "Loading ./references/2.pdf\n"
     ]
    }
   ],
   "source": [
    "import os\n",
    "from langchain_community.document_loaders import UnstructuredPDFLoader\n",
    "\n",
    "# Directory containing the PDFs\n",
    "pdf_dir = './references'\n",
    "\n",
    "# Collect all PDF files from the directory and subdirectories, excluding hidden ones\n",
    "pdf_files = []\n",
    "for root, dirs, files in os.walk(pdf_dir):\n",
    "    # Exclude hidden directories\n",
    "    dirs[:] = [d for d in dirs if not d.startswith('.')]\n",
    "    for file in files:\n",
    "        # Exclude hidden files\n",
    "        if file.lower().endswith('.pdf') and not file.startswith('.'):\n",
    "            pdf_files.append(os.path.join(root, file))\n",
    "\n",
    "# Initialize an empty list to hold data from all PDFs\n",
    "data = []\n",
    "\n",
    "# Loop through each PDF file and load it\n",
    "for pdf_file in pdf_files:\n",
    "    print(f'Loading {pdf_file}')\n",
    "    loader = UnstructuredPDFLoader(\n",
    "        file_path=pdf_file,\n",
    "        strategy='hi_res',\n",
    "        extract_images_in_pdf=True,\n",
    "        infer_table_structure=True,\n",
    "        chunking_strategy=\"by_title\",     # section-based chunking\n",
    "        max_characters=4000,              # max size of chunks\n",
    "        new_after_n_chars=4000,           # preferred size of chunks\n",
    "        combine_text_under_n_chars=2000,  # combine smaller chunks\n",
    "        mode='elements',\n",
    "        image_output_dir_path='./figures'\n",
    "    )\n",
    "    data.extend(loader.load())"
   ]
  },
  {
   "cell_type": "code",
   "execution_count": 7,
   "id": "40e929d0-62ab-4602-b550-171a25dfb5f5",
   "metadata": {},
   "outputs": [
    {
     "data": {
      "text/plain": [
       "14"
      ]
     },
     "execution_count": 7,
     "metadata": {},
     "output_type": "execute_result"
    }
   ],
   "source": [
    "len(data)"
   ]
  },
  {
   "cell_type": "code",
   "execution_count": 8,
   "id": "a76bb506-86b4-45ee-b3f8-e64a55ea2e5b",
   "metadata": {},
   "outputs": [
    {
     "data": {
      "text/plain": [
       "Document(metadata={'source': './references/1.pdf', 'filetype': 'application/pdf', 'languages': ['eng'], 'last_modified': '2024-04-09T21:27:48', 'page_number': 1, 'orig_elements': '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', 'file_directory': './references', 'filename': '1.pdf', 'category': 'CompositeElement', 'element_id': 'c1b329ee336171cd253bf0265a6deedc'}, page_content='aa —= Informing the legislative debate since 1914 Congressional Research Service\\n\\nUpdated June 1, 2023\\n\\nWildfire Statistics\\n\\nWildfires are unplanned fires, including lightning-caused fires, unauthorized human-caused fires, and escaped fires from prescribed burn projects. States are responsible for responding to wildfires that begin on nonfederal (state, local, and private) lands, except for lands protected by federal agencies under cooperative agreements. The federal government is responsible for responding to wildfires that begin on federal lands. The Forest Service (FS)—within the U.S. Department of Agriculture—carries out wildfire management and response across the 193 million acres of the National Forest System (NFS). The Department of the Interior (DOI) manages wildfire response for more than 400 million acres of national parks, wildlife refuges and preserves, other public lands, and Indian reservations.\\n\\nFigure 1. Annual Wildfires and Acres Burned, 1993-2022\\n\\nFires, thousands Acres burned, millions 120 Fires\\n\\nWildfire statistics help illustrate past U.S. wildfire activity. Nationwide data compiled by the National Interagency Coordination Center (NICC) indicate that the number of annual wildfires is variable but has decreased slightly over the last 30 years. The number of acres affected annually, while also variable, generally has increased (see Figure 1). Since 2000, an annual average of 70,025 wildfires have burned an annual average of 7.0 million acres. The acreage figure is more than double the average annual acreage burned in the 1990s (3.3 million acres), although a greater number of fires occurred annually in the 1990s on average (78,600).\\n\\nSource: NICC Wildland Fire Summary and Statistics annual reports. Note: Data reflect wildland fires and acres burned nationwide, including wildland fires on federal and nonfederal lands.\\n\\nFrom 2013 to 2022, there were an average of 61,410 wildfires annually and an average of 7.2 million acres impacted annually. In 2022, 68,988 wildfires burned 7.6 million acres. Over 40% of those acres were in Alaska (3.1 million acres).\\n\\nAs of June 1, 2023, around 18,300 wildfires have impacted over 511,000 acres this year.')"
      ]
     },
     "execution_count": 8,
     "metadata": {},
     "output_type": "execute_result"
    }
   ],
   "source": [
    "data[0]"
   ]
  },
  {
   "cell_type": "code",
   "execution_count": 9,
   "id": "bae0a9da-32b3-4c8c-83c3-1992dde48117",
   "metadata": {},
   "outputs": [
    {
     "data": {
      "text/plain": [
       "Document(metadata={'source': './references/1.pdf', 'last_modified': '2024-04-09T21:27:48', 'text_as_html': '<table><tr><td/><td>2018</td><td>2019</td><td>2020</td><td>2021</td><td>2022</td></tr><tr><td>Number of Fires (thousands)</td></tr><tr><td>Federal</td><td>12.5</td><td>10.9</td><td>14.4</td><td>14.0</td><td>11.7</td></tr><tr><td>FS</td><td>5.6</td><td>5.3</td><td>6.7</td><td>6.2</td><td>59</td></tr><tr><td>Dol</td><td>7.0</td><td>5.3</td><td>7.6</td><td>7.6</td><td>5.8</td></tr><tr><td>Other</td><td>0.1</td><td>0.2</td><td>&lt;0.1</td><td>0.2</td><td>0.1</td></tr><tr><td>Nonfederal</td><td>45.6</td><td>39.6</td><td>44.6</td><td>45.0</td><td>$7.2</td></tr><tr><td>Total</td><td>58.1</td><td>50.5</td><td>59.0</td><td>59.0</td><td>69.0</td></tr><tr><td>Acres Burned (millions)</td></tr><tr><td>Federal</td><td>4.6</td><td>3.1</td><td>7.1</td><td>5.2</td><td>40</td></tr><tr><td>FS</td><td>2.3</td><td>0.6</td><td>48</td><td>41</td><td>19</td></tr><tr><td>Dol</td><td>2.3</td><td>2.3</td><td>2.3</td><td>1.0</td><td>2.1</td></tr><tr><td>Other</td><td>&lt;0.1</td><td>&lt;0.1</td><td>&lt;0.1</td><td>&lt;0.1</td><td>&lt;0.1</td></tr><tr><td>Nonfederal</td><td>4.1</td><td>1.6</td><td>3.1</td><td>Lg</td><td>3.6</td></tr><tr><td>Total</td><td>8.8</td><td>4.7</td><td>10.1</td><td>7.1</td><td>7.6</td></tr></table>', 'filetype': 'application/pdf', 'languages': ['eng'], 'page_number': 1, 'orig_elements': 'eJylVW1r2zAQ/iuHGaODxpEU+a3LAhulMNjaQvstLcGJlcTg2MFWWMPof9+dnMTXNlkHA8vWnXTPvZ/Hvz1TmJUp7STPvAvw1CDWeqplL0m06en5POjFiQx7QuhECzENonjqnYO3MjbNUpuizG9vVlV1lpepNY2ji3RbbexkafLF0iJHKSFQZsf+lWd2iVwZOe66yktLcuOxDAM/PgepIunrx3M4MJIw8iUxYiV8eYzRiiDHa7aNNSvy5TZ/MsXdOp0Z7xkPMmPNzOZVOZkVadNM1nU1xWvCT2SsFF6Y54Wx27Vxsrc/PWdyudikC+fX2DPlwnt03MZOVlWWz3PTRk0o3RP4JPdKXqjoQsckvUbJSblZTU1N/iLHmic7SZvJ0q4KEhzadFqY0dAuTZrhp6btaNinFy4lZMyJhBFKcEJyQrVEn+D6e+hplW13GjKYVUWzTssvD1744I2unYlQzeEqr00DZ3ZZbZq0zJpPKJ/tkFrR0ZXJTJ0W7QEuqfygIzCaHaF9zQnREdKPjiDfHS4Efsj2g8M+3Mu5veruJG/hLqvOyIgp53gR0xO90Bm/BbzBUNaHK1h3bN+Z8rGwn0+dHfgc9roq569iqrn/g4QRWnMiYG59iPaKOPh9ZRluEDPDAsESFyQ8QpwIDwTDfVVAX2dUNt82dWkyOFvlRYFt9i/Fw70ZMNsibicLoH5rCi8bxVIreKDibtsBy3eKhqOd2ksWKXUsuy+L5nVx/Bf9XhExOXkizj8WjB2+Vz6xz+LIOlGKE6mLXmD2dzOo3w49N5RpILYTVMZAEw5ossFfJhLsagho8AANHKBBA1d3gF2DawA4JeDy5jtg1zsazSBYSRcFnirHoSGExwmuGFya8F8gcSkY7jf07UIL1JdA/QjUh0SiAuw7cHECai+gtgLqoPZF7QMn+uPgCoFhWtAslEc4MhP9wUJDC1APGojZBInGkl/E3y8sQPzKnQPO8GMv7oRDahUSIiZ+Z3/s9EQU1NYWDBP9x/Y/xXvKm/f8+AfifVf3', 'file_directory': './references', 'filename': '1.pdf', 'category': 'Table', 'element_id': 'c659cdf7b54831c74adeb0e303204762'}, page_content='2018 2019 2020 Number of Fires (thousands) Federal 12.5 10.9 14.4 FS 5.6 5.3 6.7 DOI 7.0 5.3 7.6 2021 14.0 6.2 7.6 11.7 5.9 5.8 Other 0.1 0.2 <0.1 0.2 0.1 Nonfederal 45.6 39.6 44.6 45.0 57.2 Total 58.1 50.5 59.0 59.0 69.0 Acres Burned (millions) Federal 4.6 3.1 7.1 5.2 4.0 FS 2.3 0.6 4.8 4.1 1.9 DOI 2.3 2.3 2.3 1.0 2.1 Other <0.1 <0.1 <0.1 <0.1 <0.1 Nonfederal 4.1 1.6 3.1 1.9 3.6 Total 8.8 4.7 10.1 7.1 7.6')"
      ]
     },
     "execution_count": 9,
     "metadata": {},
     "output_type": "execute_result"
    }
   ],
   "source": [
    "data[2]"
   ]
  },
  {
   "cell_type": "code",
   "execution_count": 10,
   "id": "30bf0d95-a861-48eb-b87b-e61bc2308a66",
   "metadata": {},
   "outputs": [],
   "source": [
    "from IPython.display import HTML, display, Markdown"
   ]
  },
  {
   "cell_type": "code",
   "execution_count": 11,
   "id": "97df5c40-bc2b-4ea3-ad03-de53640d5aeb",
   "metadata": {},
   "outputs": [
    {
     "name": "stdout",
     "output_type": "stream",
     "text": [
      "2018 2019 2020 Number of Fires (thousands) Federal 12.5 10.9 14.4 FS 5.6 5.3 6.7 DOI 7.0 5.3 7.6 2021 14.0 6.2 7.6 11.7 5.9 5.8 Other 0.1 0.2 <0.1 0.2 0.1 Nonfederal 45.6 39.6 44.6 45.0 57.2 Total 58.1 50.5 59.0 59.0 69.0 Acres Burned (millions) Federal 4.6 3.1 7.1 5.2 4.0 FS 2.3 0.6 4.8 4.1 1.9 DOI 2.3 2.3 2.3 1.0 2.1 Other <0.1 <0.1 <0.1 <0.1 <0.1 Nonfederal 4.1 1.6 3.1 1.9 3.6 Total 8.8 4.7 10.1 7.1 7.6\n"
     ]
    }
   ],
   "source": [
    "print(data[2].page_content)"
   ]
  },
  {
   "cell_type": "code",
   "execution_count": 12,
   "id": "398ea936-e100-4fc2-8d61-2f7054117691",
   "metadata": {},
   "outputs": [
    {
     "data": {
      "text/plain": [
       "'<table><tr><td/><td>2018</td><td>2019</td><td>2020</td><td>2021</td><td>2022</td></tr><tr><td>Number of Fires (thousands)</td></tr><tr><td>Federal</td><td>12.5</td><td>10.9</td><td>14.4</td><td>14.0</td><td>11.7</td></tr><tr><td>FS</td><td>5.6</td><td>5.3</td><td>6.7</td><td>6.2</td><td>59</td></tr><tr><td>Dol</td><td>7.0</td><td>5.3</td><td>7.6</td><td>7.6</td><td>5.8</td></tr><tr><td>Other</td><td>0.1</td><td>0.2</td><td>&lt;0.1</td><td>0.2</td><td>0.1</td></tr><tr><td>Nonfederal</td><td>45.6</td><td>39.6</td><td>44.6</td><td>45.0</td><td>$7.2</td></tr><tr><td>Total</td><td>58.1</td><td>50.5</td><td>59.0</td><td>59.0</td><td>69.0</td></tr><tr><td>Acres Burned (millions)</td></tr><tr><td>Federal</td><td>4.6</td><td>3.1</td><td>7.1</td><td>5.2</td><td>40</td></tr><tr><td>FS</td><td>2.3</td><td>0.6</td><td>48</td><td>41</td><td>19</td></tr><tr><td>Dol</td><td>2.3</td><td>2.3</td><td>2.3</td><td>1.0</td><td>2.1</td></tr><tr><td>Other</td><td>&lt;0.1</td><td>&lt;0.1</td><td>&lt;0.1</td><td>&lt;0.1</td><td>&lt;0.1</td></tr><tr><td>Nonfederal</td><td>4.1</td><td>1.6</td><td>3.1</td><td>Lg</td><td>3.6</td></tr><tr><td>Total</td><td>8.8</td><td>4.7</td><td>10.1</td><td>7.1</td><td>7.6</td></tr></table>'"
      ]
     },
     "execution_count": 12,
     "metadata": {},
     "output_type": "execute_result"
    }
   ],
   "source": [
    "data[2].metadata['text_as_html']"
   ]
  },
  {
   "cell_type": "code",
   "execution_count": 13,
   "id": "3d3d113d-aae5-4d63-8095-c25879911ec8",
   "metadata": {},
   "outputs": [
    {
     "data": {
      "text/markdown": [
       "<table><tr><td/><td>2018</td><td>2019</td><td>2020</td><td>2021</td><td>2022</td></tr><tr><td>Number of Fires (thousands)</td></tr><tr><td>Federal</td><td>12.5</td><td>10.9</td><td>14.4</td><td>14.0</td><td>11.7</td></tr><tr><td>FS</td><td>5.6</td><td>5.3</td><td>6.7</td><td>6.2</td><td>59</td></tr><tr><td>Dol</td><td>7.0</td><td>5.3</td><td>7.6</td><td>7.6</td><td>5.8</td></tr><tr><td>Other</td><td>0.1</td><td>0.2</td><td>&lt;0.1</td><td>0.2</td><td>0.1</td></tr><tr><td>Nonfederal</td><td>45.6</td><td>39.6</td><td>44.6</td><td>45.0</td><td>$7.2</td></tr><tr><td>Total</td><td>58.1</td><td>50.5</td><td>59.0</td><td>59.0</td><td>69.0</td></tr><tr><td>Acres Burned (millions)</td></tr><tr><td>Federal</td><td>4.6</td><td>3.1</td><td>7.1</td><td>5.2</td><td>40</td></tr><tr><td>FS</td><td>2.3</td><td>0.6</td><td>48</td><td>41</td><td>19</td></tr><tr><td>Dol</td><td>2.3</td><td>2.3</td><td>2.3</td><td>1.0</td><td>2.1</td></tr><tr><td>Other</td><td>&lt;0.1</td><td>&lt;0.1</td><td>&lt;0.1</td><td>&lt;0.1</td><td>&lt;0.1</td></tr><tr><td>Nonfederal</td><td>4.1</td><td>1.6</td><td>3.1</td><td>Lg</td><td>3.6</td></tr><tr><td>Total</td><td>8.8</td><td>4.7</td><td>10.1</td><td>7.1</td><td>7.6</td></tr></table>"
      ],
      "text/plain": [
       "<IPython.core.display.Markdown object>"
      ]
     },
     "metadata": {},
     "output_type": "display_data"
    }
   ],
   "source": [
    "display(Markdown(data[2].metadata['text_as_html']))"
   ]
  },
  {
   "cell_type": "code",
   "execution_count": 14,
   "id": "b6ef9a6b-6ca7-4baa-a67c-5228b957cdc9",
   "metadata": {},
   "outputs": [
    {
     "name": "stdout",
     "output_type": "stream",
     "text": [
      "| | | | | | |\n",
      "| :--- | :--- | :--- | :--- | :--- | :--- |\n",
      "|  | 2018 | 2019 | 2020 | 2021 | 2022 |\n",
      "| Number of Fires (thousands) |\n",
      "| Federal | 12.5 | 10.9 | 14.4 | 14.0 | 11.7 |\n",
      "| FS | 5.6 | 5.3 | 6.7 | 6.2 | 59 |\n",
      "| Dol | 7.0 | 5.3 | 7.6 | 7.6 | 5.8 |\n",
      "| Other | 0.1 | 0.2 | &lt;0.1 | 0.2 | 0.1 |\n",
      "| Nonfederal | 45.6 | 39.6 | 44.6 | 45.0 | $7.2 |\n",
      "| Total | 58.1 | 50.5 | 59.0 | 59.0 | 69.0 |\n",
      "| Acres Burned (millions) |\n",
      "| Federal | 4.6 | 3.1 | 7.1 | 5.2 | 40 |\n",
      "| FS | 2.3 | 0.6 | 48 | 41 | 19 |\n",
      "| Dol | 2.3 | 2.3 | 2.3 | 1.0 | 2.1 |\n",
      "| Other | &lt;0.1 | &lt;0.1 | &lt;0.1 | &lt;0.1 | &lt;0.1 |\n",
      "| Nonfederal | 4.1 | 1.6 | 3.1 | Lg | 3.6 |\n",
      "| Total | 8.8 | 4.7 | 10.1 | 7.1 | 7.6 |\n",
      "\n"
     ]
    }
   ],
   "source": [
    "import htmltabletomd\n",
    "\n",
    "md_table = htmltabletomd.convert_table(data[2].metadata['text_as_html'])\n",
    "print(md_table)"
   ]
  },
  {
   "cell_type": "code",
   "execution_count": 15,
   "id": "d532f0cb-d3b4-4c92-955d-fb2308daedd7",
   "metadata": {},
   "outputs": [
    {
     "data": {
      "text/plain": [
       "'| | | | | | |\\n| :--- | :--- | :--- | :--- | :--- | :--- |\\n|  | 2018 | 2019 | 2020 | 2021 | 2022 |\\n| Number of Fires (thousands) |\\n| Federal | 12.5 | 10.9 | 14.4 | 14.0 | 11.7 |\\n| FS | 5.6 | 5.3 | 6.7 | 6.2 | 59 |\\n| Dol | 7.0 | 5.3 | 7.6 | 7.6 | 5.8 |\\n| Other | 0.1 | 0.2 | &lt;0.1 | 0.2 | 0.1 |\\n| Nonfederal | 45.6 | 39.6 | 44.6 | 45.0 | $7.2 |\\n| Total | 58.1 | 50.5 | 59.0 | 59.0 | 69.0 |\\n| Acres Burned (millions) |\\n| Federal | 4.6 | 3.1 | 7.1 | 5.2 | 40 |\\n| FS | 2.3 | 0.6 | 48 | 41 | 19 |\\n| Dol | 2.3 | 2.3 | 2.3 | 1.0 | 2.1 |\\n| Other | &lt;0.1 | &lt;0.1 | &lt;0.1 | &lt;0.1 | &lt;0.1 |\\n| Nonfederal | 4.1 | 1.6 | 3.1 | Lg | 3.6 |\\n| Total | 8.8 | 4.7 | 10.1 | 7.1 | 7.6 |\\n'"
      ]
     },
     "execution_count": 15,
     "metadata": {},
     "output_type": "execute_result"
    }
   ],
   "source": [
    "md_table"
   ]
  },
  {
   "cell_type": "code",
   "execution_count": 16,
   "id": "ebd705d3-bc74-4d32-bd0d-2c86d896a6c1",
   "metadata": {},
   "outputs": [
    {
     "data": {
      "text/plain": [
       "(10, 4)"
      ]
     },
     "execution_count": 16,
     "metadata": {},
     "output_type": "execute_result"
    }
   ],
   "source": [
    "docs = []\n",
    "tables = []\n",
    "\n",
    "for doc in data:\n",
    "    if doc.metadata['category'] == 'Table':\n",
    "        tables.append(doc)\n",
    "    elif doc.metadata['category'] == 'CompositeElement':\n",
    "        docs.append(doc)\n",
    "\n",
    "len(docs), len(tables)"
   ]
  },
  {
   "cell_type": "code",
   "execution_count": 18,
   "id": "43c31a6b-e383-4756-b465-94cc673e7a27",
   "metadata": {},
   "outputs": [],
   "source": [
    "for table in tables:\n",
    "    table.page_content = htmltabletomd.convert_table(table.metadata['text_as_html'])"
   ]
  },
  {
   "cell_type": "code",
   "execution_count": 19,
   "id": "e5a59c9a-932f-4aa7-8ee9-737824f36dfb",
   "metadata": {},
   "outputs": [
    {
     "name": "stdout",
     "output_type": "stream",
     "text": [
      "| | | | | | |\n",
      "| :--- | :--- | :--- | :--- | :--- | :--- |\n",
      "|  | 2018 | 2019 | 2020 | 2021 | 2022 |\n",
      "| Number of Fires (thousands) |\n",
      "| Federal | 12.5 | 10.9 | 14.4 | 14.0 | 11.7 |\n",
      "| FS | 5.6 | 5.3 | 6.7 | 6.2 | 59 |\n",
      "| Dol | 7.0 | 5.3 | 7.6 | 7.6 | 5.8 |\n",
      "| Other | 0.1 | 0.2 | &lt;0.1 | 0.2 | 0.1 |\n",
      "| Nonfederal | 45.6 | 39.6 | 44.6 | 45.0 | $7.2 |\n",
      "| Total | 58.1 | 50.5 | 59.0 | 59.0 | 69.0 |\n",
      "| Acres Burned (millions) |\n",
      "| Federal | 4.6 | 3.1 | 7.1 | 5.2 | 40 |\n",
      "| FS | 2.3 | 0.6 | 48 | 41 | 19 |\n",
      "| Dol | 2.3 | 2.3 | 2.3 | 1.0 | 2.1 |\n",
      "| Other | &lt;0.1 | &lt;0.1 | &lt;0.1 | &lt;0.1 | &lt;0.1 |\n",
      "| Nonfederal | 4.1 | 1.6 | 3.1 | Lg | 3.6 |\n",
      "| Total | 8.8 | 4.7 | 10.1 | 7.1 | 7.6 |\n",
      "\n",
      "\n",
      "| | | | | |\n",
      "| :--- | :--- | :--- | :--- | :--- |\n",
      "|  | 2019 | 2020 | 2021 | 2022 |\n",
      "| Structures Burned | 963 | 17,904 | 5,972 | 2,717 |\n",
      "| % Residences | 46% | 54% | 60% | 46% |\n",
      "\n",
      "\n",
      "| | | | | | |\n",
      "| :--- | :--- | :--- | :--- | :--- | :--- |\n",
      "|  | 2018 | 2019 | 2020 | 2021 | 2022 |\n",
      "| Number of Fires (thousands) |\n",
      "| Federal | 12.5 | 10.9 | 14.4 | 14.0 | 11.7 |\n",
      "| FS | 5.6 | 5.3 | 6.7 | 6.2 | 59 |\n",
      "| Dol | 7.0 | 5.3 | 7.6 | 7.6 | 5.8 |\n",
      "| Other | 0.1 | 0.2 | &lt;0.1 | 0.2 | 0.1 |\n",
      "| Nonfederal | 45.6 | 39.6 | 44.6 | 45.0 | $7.2 |\n",
      "| Total | 58.1 | 50.5 | 59.0 | 59.0 | 69.0 |\n",
      "| Acres Burned (millions) |\n",
      "| Federal | 4.6 | 3.1 | 7.1 | 5.2 | 40 |\n",
      "| FS | 2.3 | 0.6 | 48 | 41 | 19 |\n",
      "| Dol | 2.3 | 2.3 | 2.3 | 1.0 | 2.1 |\n",
      "| Other | &lt;0.1 | &lt;0.1 | &lt;0.1 | &lt;0.1 | &lt;0.1 |\n",
      "| Nonfederal | 4.1 | 1.6 | 3.1 | Lg | 3.6 |\n",
      "| Total | 8.8 | 4.7 | 10.1 | 7.1 | 7.6 |\n",
      "\n",
      "\n",
      "| | | | | |\n",
      "| :--- | :--- | :--- | :--- | :--- |\n",
      "|  | 2019 | 2020 | 2021 | 2022 |\n",
      "| Structures Burned | 963 | 17,904 | 5,972 | 2,717 |\n",
      "| % Residences | 46% | 54% | 60% | 46% |\n",
      "\n",
      "\n"
     ]
    }
   ],
   "source": [
    "for table in tables:\n",
    "    print(table.page_content)\n",
    "    print()"
   ]
  },
  {
   "cell_type": "code",
   "execution_count": 20,
   "id": "4b485e78-3f56-4a14-acbf-2dfe7f4cabf7",
   "metadata": {},
   "outputs": [
    {
     "name": "stdout",
     "output_type": "stream",
     "text": [
      "total 144\n",
      "-rw-r--r-- 1 shihchi_liu shihchi_liu 27929 Nov 17 15:14 figure-1-1.jpg\n",
      "-rw-r--r-- 1 shihchi_liu shihchi_liu 27182 Nov 17 15:14 figure-1-2.jpg\n",
      "-rw-r--r-- 1 shihchi_liu shihchi_liu 26589 Nov 17 15:14 figure-1-3.jpg\n",
      "-rw-r--r-- 1 shihchi_liu shihchi_liu 26448 Nov 17 15:14 figure-2-4.jpg\n",
      "-rw-r--r-- 1 shihchi_liu shihchi_liu 29260 Nov 17 15:14 figure-2-5.jpg\n"
     ]
    }
   ],
   "source": [
    "! ls -l ./figures"
   ]
  },
  {
   "cell_type": "code",
   "execution_count": null,
   "id": "0b72b4ef-f8f9-43fa-8c2e-39241342a958",
   "metadata": {},
   "outputs": [],
   "source": [
    "from IPython.display import Image\n",
    "\n",
    "Image('./figures/figure-1-1.jpg')"
   ]
  },
  {
   "cell_type": "code",
   "execution_count": null,
   "id": "a286f07c-0260-4069-b006-0b1d30f1d4aa",
   "metadata": {},
   "outputs": [],
   "source": [
    "Image('./figures/figure-1-2.jpg')"
   ]
  },
  {
   "cell_type": "code",
   "execution_count": null,
   "id": "f7c38f42-0016-46ad-bc66-c6f47da3183c",
   "metadata": {},
   "outputs": [],
   "source": [
    "Image('./figures/figure-1-3.jpg')"
   ]
  },
  {
   "cell_type": "code",
   "execution_count": null,
   "id": "a02b662d-ce16-4b2a-a2e4-6ae9b994cea8",
   "metadata": {},
   "outputs": [],
   "source": [
    "from getpass import getpass\n",
    "\n",
    "OPENAI_KEY = getpass('Enter Open AI API Key: ')"
   ]
  },
  {
   "cell_type": "code",
   "execution_count": null,
   "id": "9830471c-d740-482a-8cca-e0c3d83bde73",
   "metadata": {},
   "outputs": [],
   "source": [
    "import os\n",
    "\n",
    "os.environ['OPENAI_API_KEY'] = OPENAI_KEY"
   ]
  },
  {
   "cell_type": "code",
   "execution_count": null,
   "id": "25f0b546-2e3d-4ed6-a275-9e53573ef4fc",
   "metadata": {},
   "outputs": [],
   "source": [
    "from langchain_openai import ChatOpenAI\n",
    "\n",
    "chatgpt = ChatOpenAI(model_name='gpt-4o', temperature=0)"
   ]
  },
  {
   "cell_type": "code",
   "execution_count": null,
   "id": "7462704f-5c1d-4ac5-8cc7-7f4ad37d5aac",
   "metadata": {},
   "outputs": [],
   "source": [
    "from langchain_core.output_parsers import StrOutputParser\n",
    "from langchain_core.prompts import ChatPromptTemplate\n",
    "from langchain_openai import ChatOpenAI\n",
    "from langchain_core.runnables import RunnablePassthrough\n",
    "\n",
    "# Prompt\n",
    "prompt_text = \"\"\"\n",
    "You are an assistant tasked with summarizing tables and text particularly for semantic retrieval.\n",
    "These summaries will be embedded and used to retrieve the raw text or table elements\n",
    "Give a detailed summary of the table or text below that is well optimized for retrieval.\n",
    "For any tables also add in a one line description of what the table is about besides the summary.\n",
    "Do not add additional words like Summary: etc.\n",
    "\n",
    "Table or text chunk:\n",
    "{element}\n",
    "\"\"\"\n",
    "prompt = ChatPromptTemplate.from_template(prompt_text)\n",
    "\n",
    "# Summary chain\n",
    "summarize_chain = (\n",
    "                    {\"element\": RunnablePassthrough()}\n",
    "                      |\n",
    "                    prompt\n",
    "                      |\n",
    "                    chatgpt\n",
    "                      |\n",
    "                    StrOutputParser() # extracts the response as text and returns it as a string\n",
    ")\n",
    "\n",
    "# Initialize empty summaries\n",
    "text_summaries = []\n",
    "table_summaries = []\n",
    "\n",
    "text_docs = [doc.page_content for doc in docs]\n",
    "table_docs = [table.page_content for table in tables]\n",
    "\n",
    "text_summaries = summarize_chain.batch(text_docs, {\"max_concurrency\": 5})\n",
    "table_summaries = summarize_chain.batch(table_docs, {\"max_concurrency\": 5})\n",
    "\n",
    "len(text_summaries), len(table_summaries)"
   ]
  },
  {
   "cell_type": "code",
   "execution_count": null,
   "id": "e38a1e4f-e5ea-4258-9eed-bec50ef3d2f9",
   "metadata": {},
   "outputs": [],
   "source": [
    "text_summaries[0]"
   ]
  },
  {
   "cell_type": "code",
   "execution_count": null,
   "id": "18840116-269a-419f-ad75-a574ba00e777",
   "metadata": {},
   "outputs": [],
   "source": [
    "table_summaries[0]"
   ]
  },
  {
   "cell_type": "code",
   "execution_count": null,
   "id": "b97e35e8-e966-453d-8ba5-80fe57b7f001",
   "metadata": {},
   "outputs": [],
   "source": [
    "import base64\n",
    "import os\n",
    "\n",
    "from langchain_core.messages import HumanMessage\n",
    "\n",
    "\n",
    "def encode_image(image_path):\n",
    "    \"\"\"Getting the base64 string\"\"\"\n",
    "    with open(image_path, \"rb\") as image_file:\n",
    "        return base64.b64encode(image_file.read()).decode(\"utf-8\")\n",
    "\n",
    "\n",
    "def image_summarize(img_base64, prompt):\n",
    "    \"\"\"Make image summary\"\"\"\n",
    "    chat = ChatOpenAI(model=\"gpt-4o\", temperature=0)\n",
    "\n",
    "    msg = chat.invoke(\n",
    "        [\n",
    "            HumanMessage(\n",
    "                content=[\n",
    "                    {\"type\": \"text\", \"text\": prompt},\n",
    "                    {\n",
    "                        \"type\": \"image_url\",\n",
    "                        \"image_url\": {\"url\": f\"data:image/jpeg;base64,{img_base64}\"},\n",
    "                    },\n",
    "                ]\n",
    "            )\n",
    "        ]\n",
    "    )\n",
    "    return msg.content\n",
    "\n",
    "\n",
    "def generate_img_summaries(path):\n",
    "    \"\"\"\n",
    "    Generate summaries and base64 encoded strings for images\n",
    "    path: Path to list of .jpg files extracted by Unstructured\n",
    "    \"\"\"\n",
    "\n",
    "    # Store base64 encoded images\n",
    "    img_base64_list = []\n",
    "\n",
    "    # Store image summaries\n",
    "    image_summaries = []\n",
    "\n",
    "    # Prompt\n",
    "    prompt = \"\"\"You are an assistant tasked with summarizing images for retrieval.\n",
    "                Remember these images could potentially contain graphs, charts or tables also.\n",
    "                These summaries will be embedded and used to retrieve the raw image for question answering.\n",
    "                Give a detailed summary of the image that is well optimized for retrieval.\n",
    "                Do not add additional words like Summary: etc.\n",
    "             \"\"\"\n",
    "\n",
    "    # Apply to images\n",
    "    for img_file in sorted(os.listdir(path)):\n",
    "        if img_file.endswith(\".jpg\"):\n",
    "            img_path = os.path.join(path, img_file)\n",
    "            base64_image = encode_image(img_path)\n",
    "            img_base64_list.append(base64_image)\n",
    "            image_summaries.append(image_summarize(base64_image, prompt))\n",
    "\n",
    "    return img_base64_list, image_summaries\n",
    "\n",
    "\n",
    "# Image summaries\n",
    "IMG_PATH = './figures'\n",
    "imgs_base64, image_summaries = generate_img_summaries(IMG_PATH)"
   ]
  },
  {
   "cell_type": "code",
   "execution_count": null,
   "id": "aa52a23b-a066-44da-bf38-cf968b2cc591",
   "metadata": {},
   "outputs": [],
   "source": [
    "len(imgs_base64), len(image_summaries)"
   ]
  },
  {
   "cell_type": "code",
   "execution_count": null,
   "id": "00647118-a0a0-4ba0-a93c-a1aaa9f26ac7",
   "metadata": {},
   "outputs": [],
   "source": [
    "display(Image('./figures/figure-1-2.jpg'))"
   ]
  },
  {
   "cell_type": "code",
   "execution_count": null,
   "id": "f1d74551-49e6-4ff9-9c30-782349d2d34a",
   "metadata": {},
   "outputs": [],
   "source": [
    "image_summaries[1]"
   ]
  },
  {
   "cell_type": "code",
   "execution_count": null,
   "id": "59da4116-e124-416b-ab64-a6755c1f53b9",
   "metadata": {},
   "outputs": [],
   "source": [
    "from langchain_openai import OpenAIEmbeddings\n",
    "\n",
    "# details here: https://openai.com/blog/new-embedding-models-and-api-updates\n",
    "openai_embed_model = OpenAIEmbeddings(model='text-embedding-3-small')"
   ]
  },
  {
   "cell_type": "code",
   "execution_count": null,
   "id": "06710a3d-0c20-4936-88a0-9f144407d45a",
   "metadata": {},
   "outputs": [],
   "source": [
    "docs[0]"
   ]
  },
  {
   "cell_type": "code",
   "execution_count": null,
   "id": "c1e35d6f-8488-46b6-a12b-31d2cc481dfc",
   "metadata": {},
   "outputs": [],
   "source": [
    "import uuid\n",
    "\n",
    "from langchain.retrievers.multi_vector import MultiVectorRetriever\n",
    "from langchain_community.storage import RedisStore\n",
    "from langchain_community.utilities.redis import get_client\n",
    "from langchain_chroma import Chroma\n",
    "from langchain_core.documents import Document\n",
    "from langchain_openai import OpenAIEmbeddings\n",
    "\n",
    "\n",
    "def create_multi_vector_retriever(\n",
    "    docstore, vectorstore, text_summaries, texts, table_summaries, tables, image_summaries, images\n",
    "):\n",
    "    \"\"\"\n",
    "    Create retriever that indexes summaries, but returns raw images or texts\n",
    "    \"\"\"\n",
    "\n",
    "\n",
    "    id_key = \"doc_id\"\n",
    "\n",
    "    # Create the multi-vector retriever\n",
    "    retriever = MultiVectorRetriever(\n",
    "        vectorstore=vectorstore,\n",
    "        docstore=docstore,\n",
    "        id_key=id_key,\n",
    "    )\n",
    "\n",
    "    # Helper function to add documents to the vectorstore and docstore\n",
    "    def add_documents(retriever, doc_summaries, doc_contents):\n",
    "        doc_ids = [str(uuid.uuid4()) for _ in doc_contents]\n",
    "        summary_docs = [\n",
    "            Document(page_content=s, metadata={id_key: doc_ids[i]})\n",
    "            for i, s in enumerate(doc_summaries)\n",
    "        ]\n",
    "        retriever.vectorstore.add_documents(summary_docs)\n",
    "        retriever.docstore.mset(list(zip(doc_ids, doc_contents)))\n",
    "\n",
    "    # Add texts, tables, and images\n",
    "    # Check that text_summaries is not empty before adding\n",
    "    if text_summaries:\n",
    "        add_documents(retriever, text_summaries, texts)\n",
    "    # Check that table_summaries is not empty before adding\n",
    "    if table_summaries:\n",
    "        add_documents(retriever, table_summaries, tables)\n",
    "    # Check that image_summaries is not empty before adding\n",
    "    if image_summaries:\n",
    "        add_documents(retriever, image_summaries, images)\n",
    "\n",
    "    return retriever\n",
    "\n",
    "\n",
    "# The vectorstore to use to index the summaries and their embeddings\n",
    "chroma_db = Chroma(\n",
    "    collection_name=\"mm_rag\",\n",
    "    embedding_function=openai_embed_model,\n",
    "    collection_metadata={\"hnsw:space\": \"cosine\"},\n",
    ")\n",
    "\n",
    "# Initialize the storage layer - to store raw images, text and tables\n",
    "client = get_client('redis://localhost:6379')\n",
    "redis_store = RedisStore(client=client) # you can use filestore, memorystory, any other DB store also\n",
    "\n",
    "# Create retriever\n",
    "retriever_multi_vector = create_multi_vector_retriever(\n",
    "    redis_store,\n",
    "    chroma_db,\n",
    "    text_summaries,\n",
    "    text_docs,\n",
    "    table_summaries,\n",
    "    table_docs,\n",
    "    image_summaries,\n",
    "    imgs_base64,\n",
    ")"
   ]
  },
  {
   "cell_type": "code",
   "execution_count": null,
   "id": "6f16ab3f-ed26-435f-b7e6-d19a6612477e",
   "metadata": {},
   "outputs": [],
   "source": [
    "retriever_multi_vector"
   ]
  },
  {
   "cell_type": "code",
   "execution_count": null,
   "id": "4ffecf2d-487e-4919-8520-5a6d92576094",
   "metadata": {},
   "outputs": [],
   "source": [
    "from IPython.display import HTML, display, Image\n",
    "from PIL import Image\n",
    "import base64\n",
    "from io import BytesIO\n",
    "\n",
    "def plt_img_base64(img_base64):\n",
    "    \"\"\"Disply base64 encoded string as image\"\"\"\n",
    "    # Decode the base64 string\n",
    "    img_data = base64.b64decode(img_base64)\n",
    "    # Create a BytesIO object\n",
    "    img_buffer = BytesIO(img_data)\n",
    "    # Open the image using PIL\n",
    "    img = Image.open(img_buffer)\n",
    "    display(img)"
   ]
  },
  {
   "cell_type": "code",
   "execution_count": null,
   "id": "2df70840-2470-4a8f-9cb1-2a12805594db",
   "metadata": {},
   "outputs": [],
   "source": [
    "# Check retrieval\n",
    "query = \"Tell me about the annual wildfires trend with acres burned\"\n",
    "docs = retriever_multi_vector.invoke(query, limit=5)\n",
    "\n",
    "# We get 4 docs\n",
    "len(docs)"
   ]
  },
  {
   "cell_type": "code",
   "execution_count": null,
   "id": "41eb233e-3cda-4cac-8667-d97eca0ffd32",
   "metadata": {},
   "outputs": [],
   "source": [
    "docs"
   ]
  },
  {
   "cell_type": "code",
   "execution_count": null,
   "id": "f0bd53dd-de65-4d37-8ad3-cc2651d914ab",
   "metadata": {},
   "outputs": [],
   "source": [
    "plt_img_base64(docs[3])"
   ]
  },
  {
   "cell_type": "code",
   "execution_count": null,
   "id": "cb7fe903-5cc3-4266-b028-3a605085a190",
   "metadata": {},
   "outputs": [],
   "source": [
    "# Check retrieval\n",
    "query = \"Tell me about the percentage of residences burned by wildfires in 2022\"\n",
    "docs = retriever_multi_vector.invoke(query, limit=5)\n",
    "\n",
    "# We get 4 docs\n",
    "len(docs)"
   ]
  },
  {
   "cell_type": "code",
   "execution_count": null,
   "id": "b9b00119-4d6f-4689-9c12-2f6d2b76e053",
   "metadata": {},
   "outputs": [],
   "source": [
    "docs"
   ]
  },
  {
   "cell_type": "code",
   "execution_count": null,
   "id": "b0c4e9fe-306a-45f1-bdfe-2d7a11184e51",
   "metadata": {},
   "outputs": [],
   "source": [
    "import re\n",
    "import base64\n",
    "\n",
    "def looks_like_base64(sb):\n",
    "    \"\"\"Check if the string looks like base64\"\"\"\n",
    "    return re.match(\"^[A-Za-z0-9+/]+[=]{0,2}$\", sb) is not None\n",
    "\n",
    "\n",
    "def is_image_data(b64data):\n",
    "    \"\"\"\n",
    "    Check if the base64 data is an image by looking at the start of the data\n",
    "    \"\"\"\n",
    "    image_signatures = {\n",
    "        b\"\\xff\\xd8\\xff\": \"jpg\",\n",
    "        b\"\\x89\\x50\\x4e\\x47\\x0d\\x0a\\x1a\\x0a\": \"png\",\n",
    "        b\"\\x47\\x49\\x46\\x38\": \"gif\",\n",
    "        b\"\\x52\\x49\\x46\\x46\": \"webp\",\n",
    "    }\n",
    "    try:\n",
    "        header = base64.b64decode(b64data)[:8]  # Decode and get the first 8 bytes\n",
    "        for sig, format in image_signatures.items():\n",
    "            if header.startswith(sig):\n",
    "                return True\n",
    "        return False\n",
    "    except Exception:\n",
    "        return False\n",
    "\n",
    "\n",
    "def split_image_text_types(docs):\n",
    "    \"\"\"\n",
    "    Split base64-encoded images and texts\n",
    "    \"\"\"\n",
    "    b64_images = []\n",
    "    texts = []\n",
    "    for doc in docs:\n",
    "        # Check if the document is of type Document and extract page_content if so\n",
    "        if isinstance(doc, Document):\n",
    "            doc = doc.page_content.decode('utf-8')\n",
    "        else:\n",
    "            doc = doc.decode('utf-8')\n",
    "        if looks_like_base64(doc) and is_image_data(doc):\n",
    "            b64_images.append(doc)\n",
    "        else:\n",
    "            texts.append(doc)\n",
    "    return {\"images\": b64_images, \"texts\": texts}"
   ]
  },
  {
   "cell_type": "code",
   "execution_count": null,
   "id": "d5acecd4-9951-494a-9868-d4623e7e1e0a",
   "metadata": {},
   "outputs": [],
   "source": [
    "# Check retrieval\n",
    "query = \"Tell me detailed statistics of the top 5 years with largest wildfire acres burned\"\n",
    "docs = retriever_multi_vector.invoke(query, limit=5)\n",
    "\n",
    "# We get 4 docs\n",
    "len(docs)"
   ]
  },
  {
   "cell_type": "code",
   "execution_count": null,
   "id": "2c7b0dfc-98ae-419f-a6d0-7fd898ce5671",
   "metadata": {},
   "outputs": [],
   "source": [
    "docs"
   ]
  },
  {
   "cell_type": "code",
   "execution_count": null,
   "id": "8773bc84-4920-4f06-a9fe-b4d7fb622769",
   "metadata": {},
   "outputs": [],
   "source": [
    "is_image_data(docs[1].decode('utf-8'))"
   ]
  },
  {
   "cell_type": "code",
   "execution_count": null,
   "id": "71b4aae8-3426-491e-8691-9bfc15283741",
   "metadata": {},
   "outputs": [],
   "source": [
    "r = split_image_text_types(docs)\n",
    "r"
   ]
  },
  {
   "cell_type": "code",
   "execution_count": null,
   "id": "0a94141c-fa59-4971-8794-747bdfef8081",
   "metadata": {},
   "outputs": [],
   "source": [
    "plt_img_base64(docs[1].decode('utf-8'))"
   ]
  },
  {
   "cell_type": "code",
   "execution_count": null,
   "id": "da6dc7a5-8463-4b7c-913e-4745331ad49e",
   "metadata": {},
   "outputs": [],
   "source": [
    "from operator import itemgetter\n",
    "from langchain_core.runnables import RunnableLambda, RunnablePassthrough\n",
    "from langchain_core.messages import HumanMessage\n",
    "\n",
    "def multimodal_prompt_function(data_dict):\n",
    "    \"\"\"\n",
    "    Create a multimodal prompt with both text and image context.\n",
    "\n",
    "    This function formats the provided context from `data_dict`, which contains\n",
    "    text, tables, and base64-encoded images. It joins the text (with table) portions\n",
    "    and prepares the image(s) in a base64-encoded format to be included in a message.\n",
    "\n",
    "    The formatted text and images (context) along with the user question are used to\n",
    "    construct a prompt for GPT-4o\n",
    "    \"\"\"\n",
    "    formatted_texts = \"\\n\".join(data_dict[\"context\"][\"texts\"])\n",
    "    messages = []\n",
    "\n",
    "    # Adding image(s) to the messages if present\n",
    "    if data_dict[\"context\"][\"images\"]:\n",
    "        for image in data_dict[\"context\"][\"images\"]:\n",
    "            image_message = {\n",
    "                \"type\": \"image_url\",\n",
    "                \"image_url\": {\"url\": f\"data:image/jpeg;base64,{image}\"},\n",
    "            }\n",
    "            messages.append(image_message)\n",
    "\n",
    "    # Adding the text for analysis\n",
    "    text_message = {\n",
    "        \"type\": \"text\",\n",
    "        \"text\": (\n",
    "            f\"\"\"You are an analyst tasked with understanding detailed information and trends from text documents,\n",
    "                data tables, and charts and graphs in images.\n",
    "                You will be given context information below which will be a mix of text, tables, and images usually of charts or graphs.\n",
    "                Use this information to provide answers related to the user question.\n",
    "                Do not make up answers, use the provided context documents below and answer the question to the best of your ability.\n",
    "\n",
    "                User question:\n",
    "                {data_dict['question']}\n",
    "\n",
    "                Context documents:\n",
    "                {formatted_texts}\n",
    "\n",
    "                Answer:\n",
    "            \"\"\"\n",
    "        ),\n",
    "    }\n",
    "    messages.append(text_message)\n",
    "    return [HumanMessage(content=messages)]\n",
    "\n",
    "\n",
    "# Create RAG chain\n",
    "multimodal_rag = (\n",
    "        {\n",
    "            \"context\": itemgetter('context'),\n",
    "            \"question\": itemgetter('input'),\n",
    "        }\n",
    "            |\n",
    "        RunnableLambda(multimodal_prompt_function)\n",
    "            |\n",
    "        chatgpt\n",
    "            |\n",
    "        StrOutputParser()\n",
    ")\n",
    "\n",
    "# Pass input query to retriever and get context document elements\n",
    "retrieve_docs = (itemgetter('input')\n",
    "                    |\n",
    "                retriever_multi_vector\n",
    "                    |\n",
    "                RunnableLambda(split_image_text_types))\n",
    "\n",
    "# Below, we chain `.assign` calls. This takes a dict and successively\n",
    "# adds keys-- \"context\" and \"answer\"-- where the value for each key\n",
    "# is determined by a Runnable (function or chain executing at runtime).\n",
    "# This helps in also having the retrieved context along with the answer generated by GPT-4o\n",
    "multimodal_rag_w_sources = (RunnablePassthrough.assign(context=retrieve_docs)\n",
    "                                               .assign(answer=multimodal_rag)\n",
    ")"
   ]
  },
  {
   "cell_type": "code",
   "execution_count": null,
   "id": "54190e3f-407c-4576-bb2b-feb372c1de14",
   "metadata": {},
   "outputs": [],
   "source": [
    "# Run RAG chain\n",
    "query = \"Tell me detailed statistics of the top 5 years with largest wildfire acres burned\"\n",
    "response = multimodal_rag_w_sources.invoke({'input': query})\n",
    "response"
   ]
  },
  {
   "cell_type": "code",
   "execution_count": null,
   "id": "78dea60d-2853-487c-9107-6f495d817f9a",
   "metadata": {},
   "outputs": [],
   "source": [
    "def multimodal_rag_qa(query):\n",
    "    response = multimodal_rag_w_sources.invoke({'input': query})\n",
    "    print('=='*50)\n",
    "    print('Answer:')\n",
    "    display(Markdown(response['answer']))\n",
    "    print('--'*50)\n",
    "    print('Sources:')\n",
    "    text_sources = response['context']['texts']\n",
    "    img_sources = response['context']['images']\n",
    "    for text in text_sources:\n",
    "        display(Markdown(text))\n",
    "        print()\n",
    "    for img in img_sources:\n",
    "        plt_img_base64(img)\n",
    "        print()\n",
    "    print('=='*50)"
   ]
  },
  {
   "cell_type": "code",
   "execution_count": null,
   "id": "63165174-ebcc-4105-90b0-0ab33b760761",
   "metadata": {},
   "outputs": [],
   "source": [
    "query = \"Tell me detailed statistics of the top 5 years with largest wildfire acres burned\"\n",
    "multimodal_rag_qa(query)"
   ]
  },
  {
   "cell_type": "code",
   "execution_count": null,
   "id": "341db7a3-fa2e-48e0-a1a1-cdc8b2fad990",
   "metadata": {},
   "outputs": [],
   "source": [
    "# Run RAG chain\n",
    "query = \"Tell me about the annual wildfires trend with acres burned\"\n",
    "multimodal_rag_qa(query)"
   ]
  },
  {
   "cell_type": "code",
   "execution_count": null,
   "id": "0808f1dc-00d6-4b5c-880e-322427861755",
   "metadata": {},
   "outputs": [],
   "source": [
    "# Run RAG chain\n",
    "query = \"Tell me about the number of acres burned by wildfires for the forest service in 2021\"\n",
    "multimodal_rag_qa(query)"
   ]
  },
  {
   "cell_type": "code",
   "execution_count": null,
   "id": "3395fcab-0cdf-4bbb-a6f4-1d215d3352c9",
   "metadata": {},
   "outputs": [],
   "source": [
    "# Run RAG chain\n",
    "query = \"Tell me about the percentage of residences burned by wildfires in 2022\"\n",
    "multimodal_rag_qa(query)"
   ]
  }
 ],
 "metadata": {
  "kernelspec": {
   "display_name": "Python 3 (ipykernel)",
   "language": "python",
   "name": "python3"
  },
  "language_info": {
   "codemirror_mode": {
    "name": "ipython",
    "version": 3
   },
   "file_extension": ".py",
   "mimetype": "text/x-python",
   "name": "python",
   "nbconvert_exporter": "python",
   "pygments_lexer": "ipython3",
   "version": "3.10.12"
  }
 },
 "nbformat": 4,
 "nbformat_minor": 5
}
