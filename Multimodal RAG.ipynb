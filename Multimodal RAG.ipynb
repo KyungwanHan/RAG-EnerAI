{
 "cells": [
  {
   "cell_type": "markdown",
   "id": "d8a3f7ca-2d0e-41a1-9a1b-6c67a48c37c3",
   "metadata": {},
   "source": [
    "# 1. Load Multimodal Data"
   ]
  },
  {
   "cell_type": "markdown",
   "id": "84563197-f172-49a1-a347-d9e459694fff",
   "metadata": {
    "jp-MarkdownHeadingCollapsed": true
   },
   "source": [
    "## 1.1. Extract and Partition Text, Tables, and Images"
   ]
  },
  {
   "cell_type": "code",
   "execution_count": 1,
   "id": "5b40a1a8-178d-4f09-99d8-00adb764f249",
   "metadata": {},
   "outputs": [],
   "source": [
    "# Remove all existing figures\n",
    "!rm -rf ./figures"
   ]
  },
  {
   "cell_type": "code",
   "execution_count": 2,
   "id": "2d5bde7b-c7a8-49c6-9311-54c216fd6646",
   "metadata": {},
   "outputs": [
    {
     "name": "stdout",
     "output_type": "stream",
     "text": [
      "Loading ./references/Sample 2.pdf\n"
     ]
    },
    {
     "name": "stderr",
     "output_type": "stream",
     "text": [
      "/home/shihchi_liu/RAG/venv/lib/python3.10/site-packages/tqdm/auto.py:21: TqdmWarning: IProgress not found. Please update jupyter and ipywidgets. See https://ipywidgets.readthedocs.io/en/stable/user_install.html\n",
      "  from .autonotebook import tqdm as notebook_tqdm\n"
     ]
    },
    {
     "name": "stdout",
     "output_type": "stream",
     "text": [
      "Loading ./references/Sample 1.pdf\n"
     ]
    }
   ],
   "source": [
    "import os\n",
    "from langchain_community.document_loaders import UnstructuredPDFLoader\n",
    "\n",
    "# Directory containing the PDFs\n",
    "pdf_dir = './references'\n",
    "\n",
    "# Collect all PDF files from the directory and subdirectories, excluding hidden ones\n",
    "pdf_files = []\n",
    "for root, dirs, files in os.walk(pdf_dir):\n",
    "    # Exclude hidden directories\n",
    "    dirs[:] = [d for d in dirs if not d.startswith('.')]\n",
    "    for file in files:\n",
    "        # Exclude hidden files\n",
    "        if file.lower().endswith('.pdf') and not file.startswith('.'):\n",
    "            pdf_files.append(os.path.join(root, file))\n",
    "\n",
    "# Initialize an empty list to hold data from all PDFs\n",
    "data = []\n",
    "\n",
    "# Loop through each PDF file and load it\n",
    "for pdf_file in pdf_files:\n",
    "    print(f'Loading {pdf_file}')\n",
    "    loader = UnstructuredPDFLoader(\n",
    "        file_path=pdf_file,\n",
    "        strategy='hi_res',\n",
    "        extract_images_in_pdf=True,\n",
    "        infer_table_structure=True,\n",
    "        chunking_strategy=\"by_title\",     # section-based chunking\n",
    "        max_characters=4000,              # max size of chunks\n",
    "        new_after_n_chars=4000,           # preferred size of chunks\n",
    "        combine_text_under_n_chars=2000,  # combine smaller chunks\n",
    "        mode='elements',\n",
    "        image_output_dir_path='./figures'\n",
    "    )\n",
    "    data.extend(loader.load())"
   ]
  },
  {
   "cell_type": "code",
   "execution_count": 24,
   "id": "ebd705d3-bc74-4d32-bd0d-2c86d896a6c1",
   "metadata": {},
   "outputs": [
    {
     "data": {
      "text/plain": [
       "(10, 5)"
      ]
     },
     "execution_count": 24,
     "metadata": {},
     "output_type": "execute_result"
    }
   ],
   "source": [
    "docs = []\n",
    "tables = []\n",
    "\n",
    "for doc in data:\n",
    "    if doc.metadata['category'] == 'Table':\n",
    "        tables.append(doc)\n",
    "    elif doc.metadata['category'] == 'CompositeElement':\n",
    "        docs.append(doc)\n",
    "\n",
    "len(docs), len(tables)"
   ]
  },
  {
   "cell_type": "code",
   "execution_count": 25,
   "id": "43c31a6b-e383-4756-b465-94cc673e7a27",
   "metadata": {},
   "outputs": [],
   "source": [
    "import htmltabletomd\n",
    "\n",
    "for table in tables:\n",
    "    table.page_content = htmltabletomd.convert_table(table.metadata['text_as_html'])"
   ]
  },
  {
   "cell_type": "markdown",
   "id": "b525503d-85fb-4416-8d05-898b73822274",
   "metadata": {
    "jp-MarkdownHeadingCollapsed": true
   },
   "source": [
    "## 1.2. Examine Loaded Data (Optional)"
   ]
  },
  {
   "cell_type": "code",
   "execution_count": 27,
   "id": "30bf0d95-a861-48eb-b87b-e61bc2308a66",
   "metadata": {},
   "outputs": [],
   "source": [
    "from IPython.display import HTML, display, Markdown, Image"
   ]
  },
  {
   "cell_type": "code",
   "execution_count": 15,
   "id": "c8e8d372-6a8b-4891-9ef6-7f5b7e715f05",
   "metadata": {},
   "outputs": [
    {
     "data": {
      "text/plain": [
       "Document(metadata={'source': './references/Sample 2.pdf', 'filetype': 'application/pdf', 'languages': ['eng'], 'last_modified': '2024-11-17T16:34:32', 'page_number': 1, 'orig_elements': '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', 'file_directory': './references', 'filename': 'Sample 2.pdf', 'category': 'CompositeElement', 'element_id': '75751f77b7bef08eab9b857b4666a9f7'}, page_content='EnerGuide Rating System—Technical Procedures—Version 15.12\\n\\ndata collection material/equipment (e.g. tablet, clipboard, graph paper, pencil and eraser);\\n\\ncompass;\\n\\ndigital camera (minimum three megapixels, must be able to record date and time on photos or be searchable in each photo’s properties);\\n\\ndisposable face mask (minimum P100, R100 or N100 rating or HEPA filter) or an equivalent half- mask respirator (mandatory for attic assessments);\\n\\nladder(s);\\n\\nlights (e.g. trouble light, flashlight);\\n\\nhard hat (mandatory on construction sites);\\n\\nsafety glasses or goggles (mandatory on construction sites);\\n\\nprotective footwear (mandatory on construction sites);\\n\\ntape measure (preferably 10 m (33 ft.) or longer);\\n\\nthermometer;\\n\\nair movement indicator such as a smoke pencil, incense, hand-held fogger or a fluffy feather (NOTE: Smoke pencils and incense are irritants to some people.);\\n\\nlow-emissivity window coating detector capable of detecting low-e coating on a minimum of two panes;\\n\\nblower door testing equipment (all elements as listed in section 7.2);\\n\\ncolour printer or access to one; and\\n\\ncomputer with a Windows® 7 (Service Pack 1) or Windows 10 operating system. See Table 1. (The computer must have a .pdf viewer and Internet connection.)\\n\\nTable 1 – Minimum system requirements')"
      ]
     },
     "execution_count": 15,
     "metadata": {},
     "output_type": "execute_result"
    }
   ],
   "source": [
    "docs[0]"
   ]
  },
  {
   "cell_type": "code",
   "execution_count": 11,
   "id": "97df5c40-bc2b-4ea3-ad03-de53640d5aeb",
   "metadata": {},
   "outputs": [
    {
     "name": "stdout",
     "output_type": "stream",
     "text": [
      "Component Requirement Processor Intel Core i5 or equivalent CPU Operating system Windows 7 SP 1, Windows 10 (32/64-bit) Memory 4 GB RAM (32-bit) Hard disk space 8 GB available disk space Display Graphics card must support at least 1024x768 resolution\n"
     ]
    }
   ],
   "source": [
    "print(tables[0].page_content)"
   ]
  },
  {
   "cell_type": "code",
   "execution_count": 12,
   "id": "398ea936-e100-4fc2-8d61-2f7054117691",
   "metadata": {},
   "outputs": [
    {
     "data": {
      "text/plain": [
       "'<table><tr><td>Component</td><td>Requirement</td></tr><tr><td>Processor</td><td>Intel Core i5 or equivalent CPU</td></tr><tr><td>Operating system</td><td>Windows 7 SP 1, Windows 10 (32/64-bit)</td></tr><tr><td>Memory</td><td>4 GB RAM (32-bit)</td></tr><tr><td>Hard disk space</td><td>8 GB available disk space</td></tr><tr><td>Display</td><td>Graphics card must support at least 1024x768 resolution</td></tr></table>'"
      ]
     },
     "execution_count": 12,
     "metadata": {},
     "output_type": "execute_result"
    }
   ],
   "source": [
    "tables[0].metadata['text_as_html']"
   ]
  },
  {
   "cell_type": "code",
   "execution_count": 13,
   "id": "3d3d113d-aae5-4d63-8095-c25879911ec8",
   "metadata": {},
   "outputs": [
    {
     "data": {
      "text/markdown": [
       "<table><tr><td>Component</td><td>Requirement</td></tr><tr><td>Processor</td><td>Intel Core i5 or equivalent CPU</td></tr><tr><td>Operating system</td><td>Windows 7 SP 1, Windows 10 (32/64-bit)</td></tr><tr><td>Memory</td><td>4 GB RAM (32-bit)</td></tr><tr><td>Hard disk space</td><td>8 GB available disk space</td></tr><tr><td>Display</td><td>Graphics card must support at least 1024x768 resolution</td></tr></table>"
      ],
      "text/plain": [
       "<IPython.core.display.Markdown object>"
      ]
     },
     "metadata": {},
     "output_type": "display_data"
    }
   ],
   "source": [
    "display(Markdown(tables[0].metadata['text_as_html']))"
   ]
  },
  {
   "cell_type": "code",
   "execution_count": 21,
   "id": "e5a59c9a-932f-4aa7-8ee9-737824f36dfb",
   "metadata": {},
   "outputs": [
    {
     "name": "stdout",
     "output_type": "stream",
     "text": [
      "| | |\n",
      "| :--- | :--- |\n",
      "| Component | Requirement |\n",
      "| Processor | Intel Core i5 or equivalent CPU |\n",
      "| Operating system | Windows 7 SP 1, Windows 10 (32/64-bit) |\n",
      "| Memory | 4 GB RAM (32-bit) |\n",
      "| Hard disk space | 8 GB available disk space |\n",
      "| Display | Graphics card must support at least 1024x768 resolution |\n",
      "\n",
      "\n",
      "| | | | | | | |\n",
      "| :--- | :--- | :--- | :--- | :--- | :--- | :--- |\n",
      "| Component | &lt;9.5 mm (&lt;3/8 in.) | 9.5-13mm (3/8 - 1/2 in.) | &#124; &gt;13-20mm &#124; &#124; (&gt;1/2-3/4in.) | &gt;20-40mm &#124; (&gt;3/4-1.5in.) &#124; | &gt;40 - 90 mm (&gt;1.5-3.5in.) &#124; | &gt;90 mm (&gt;3.5 in.) |\n",
      "| Walls | 0 | 0.15 | 0.16 | 0.18 | 0.18 | 0 |\n",
      "| Floors | 0 | 0.15 | 0.16 | 0.18 | 0.20 | 0 |\n",
      "| Ceilings | 0 | 0.15 | 0.15 | 0.15 | 0.16 | 0 |\n",
      "| Open joint cladding | 0 | 0 | 0 | 0 | 0 | 0 |\n",
      "\n",
      "\n",
      "| | |\n",
      "| :--- | :--- |\n",
      "| Load | Thresholds and Resulting Values |\n",
      "| Lighting | &lt; 25% of fixtures | with CFLs or LEDs | = 2.6 kWhiday (standard value) |\n",
      "| &#124; 25%-75% of fixtures | with CFLs or LEDs | == 1.6 kWh/day |\n",
      "| &gt; 75% of fixtures | with CFLs or LEDs | = 0.6 kWh/day |\n",
      "| Appliances | Record the actual | EnerGuide appliance | rating if it is lower than the following standard values’: |\n",
      "| Clothes dryer: | 916 kWh/yr |  |\n",
      "| Clothes washer: | 197 kWh/yr |  |\n",
      "| Dishwasher: | 260 kWh/yr |  |\n",
      "| Refrigerator: | 639 kWh/yr |  |\n",
      "| Range: | 565 kWh/yr |  |\n",
      "\n",
      "\n",
      "| | | | | | |\n",
      "| :--- | :--- | :--- | :--- | :--- | :--- |\n",
      "|  | 2018 | 2019 | 2020 | 2021 | 2022 |\n",
      "| Number of Fires (thousands) |\n",
      "| Federal | 12.5 | 10.9 | 14.4 | 14.0 | 11.7 |\n",
      "| FS | 5.6 | 5.3 | 6.7 | 6.2 | 59 |\n",
      "| Dol | 7.0 | 5.3 | 7.6 | 7.6 | 5.8 |\n",
      "| Other | 0.1 | 0.2 | &lt;0.1 | 0.2 | 0.1 |\n",
      "| Nonfederal | 45.6 | 39.6 | 44.6 | 45.0 | $7.2 |\n",
      "| Total | 58.1 | 50.5 | 59.0 | 59.0 | 69.0 |\n",
      "| Acres Burned (millions) |\n",
      "| Federal | 4.6 | 3.1 | 7.1 | 5.2 | 40 |\n",
      "| FS | 2.3 | 0.6 | 48 | 41 | 19 |\n",
      "| Dol | 2.3 | 2.3 | 2.3 | 1.0 | 2.1 |\n",
      "| Other | &lt;0.1 | &lt;0.1 | &lt;0.1 | &lt;0.1 | &lt;0.1 |\n",
      "| Nonfederal | 4.1 | 1.6 | 3.1 | Lg | 3.6 |\n",
      "| Total | 8.8 | 4.7 | 10.1 | 7.1 | 7.6 |\n",
      "\n",
      "\n",
      "| | | | | |\n",
      "| :--- | :--- | :--- | :--- | :--- |\n",
      "|  | 2019 | 2020 | 2021 | 2022 |\n",
      "| Structures Burned | 963 | 17,904 | 5,972 | 2,717 |\n",
      "| % Residences | 46% | 54% | 60% | 46% |\n",
      "\n",
      "\n"
     ]
    }
   ],
   "source": [
    "for table in tables:\n",
    "    print(table.page_content)\n",
    "    print()"
   ]
  },
  {
   "cell_type": "code",
   "execution_count": 26,
   "id": "4b485e78-3f56-4a14-acbf-2dfe7f4cabf7",
   "metadata": {},
   "outputs": [
    {
     "name": "stdout",
     "output_type": "stream",
     "text": [
      "total 452\n",
      "-rw-r--r-- 1 shihchi_liu shihchi_liu  27929 Nov 17 17:07 figure-1-1.jpg\n",
      "-rw-r--r-- 1 shihchi_liu shihchi_liu  27182 Nov 17 17:07 figure-1-2.jpg\n",
      "-rw-r--r-- 1 shihchi_liu shihchi_liu  26589 Nov 17 17:07 figure-1-3.jpg\n",
      "-rw-r--r-- 1 shihchi_liu shihchi_liu  26448 Nov 17 17:07 figure-2-4.jpg\n",
      "-rw-r--r-- 1 shihchi_liu shihchi_liu  29260 Nov 17 17:07 figure-2-5.jpg\n",
      "-rw-r--r-- 1 shihchi_liu shihchi_liu 102442 Nov 17 17:06 figure-3-1.jpg\n",
      "-rw-r--r-- 1 shihchi_liu shihchi_liu 101680 Nov 17 17:06 figure-4-2.jpg\n",
      "-rw-r--r-- 1 shihchi_liu shihchi_liu  40062 Nov 17 17:06 figure-4-3.jpg\n",
      "-rw-r--r-- 1 shihchi_liu shihchi_liu  50949 Nov 17 17:06 figure-5-4.jpg\n",
      "-rw-r--r-- 1 shihchi_liu shihchi_liu   9820 Nov 17 17:06 figure-5-5.jpg\n"
     ]
    }
   ],
   "source": [
    "! ls -l ./figures"
   ]
  },
  {
   "cell_type": "code",
   "execution_count": 29,
   "id": "0b72b4ef-f8f9-43fa-8c2e-39241342a958",
   "metadata": {},
   "outputs": [
    {
     "data": {
      "image/jpeg": "[encoded data removed]",
      "text/plain": [
       "<IPython.core.display.Image object>"
      ]
     },
     "execution_count": 29,
     "metadata": {},
     "output_type": "execute_result"
    }
   ],
   "source": [
    "Image('./figures/figure-5-4.jpg')"
   ]
  },
  {
   "cell_type": "markdown",
   "id": "d5ca0769-a9e5-4cf0-b4fb-1923155fb912",
   "metadata": {
    "jp-MarkdownHeadingCollapsed": true
   },
   "source": [
    "# 2. Connect to LLM through API"
   ]
  },
  {
   "cell_type": "code",
   "execution_count": 30,
   "id": "a02b662d-ce16-4b2a-a2e4-6ae9b994cea8",
   "metadata": {},
   "outputs": [
    {
     "name": "stdin",
     "output_type": "stream",
     "text": [
      "Enter Open AI API Key:  ········\n"
     ]
    }
   ],
   "source": [
    "from getpass import getpass\n",
    "\n",
    "OPENAI_KEY = getpass('Enter Open AI API Key: ')"
   ]
  },
  {
   "cell_type": "code",
   "execution_count": 31,
   "id": "9830471c-d740-482a-8cca-e0c3d83bde73",
   "metadata": {},
   "outputs": [],
   "source": [
    "os.environ['OPENAI_API_KEY'] = OPENAI_KEY"
   ]
  },
  {
   "cell_type": "code",
   "execution_count": 32,
   "id": "25f0b546-2e3d-4ed6-a275-9e53573ef4fc",
   "metadata": {},
   "outputs": [],
   "source": [
    "from langchain_openai import ChatOpenAI\n",
    "\n",
    "chatgpt = ChatOpenAI(model_name='gpt-4o', temperature=0)"
   ]
  },
  {
   "cell_type": "markdown",
   "id": "0b5eebd2-9e7b-4eb4-810a-926241aafc7b",
   "metadata": {},
   "source": [
    "# 3. Construct Multi-Vector Retriever"
   ]
  },
  {
   "cell_type": "code",
   "execution_count": null,
   "id": "7462704f-5c1d-4ac5-8cc7-7f4ad37d5aac",
   "metadata": {},
   "outputs": [],
   "source": [
    "from langchain_core.output_parsers import StrOutputParser\n",
    "from langchain_core.prompts import ChatPromptTemplate\n",
    "from langchain_openai import ChatOpenAI\n",
    "from langchain_core.runnables import RunnablePassthrough\n",
    "\n",
    "# Prompt\n",
    "prompt_text = \"\"\"\n",
    "You are an assistant tasked with summarizing tables and text particularly for semantic retrieval.\n",
    "These summaries will be embedded and used to retrieve the raw text or table elements\n",
    "Give a detailed summary of the table or text below that is well optimized for retrieval.\n",
    "For any tables also add in a one line description of what the table is about besides the summary.\n",
    "Do not add additional words like Summary: etc.\n",
    "\n",
    "Table or text chunk:\n",
    "{element}\n",
    "\"\"\"\n",
    "prompt = ChatPromptTemplate.from_template(prompt_text)\n",
    "\n",
    "# Summary chain\n",
    "summarize_chain = (\n",
    "                    {\"element\": RunnablePassthrough()}\n",
    "                      |\n",
    "                    prompt\n",
    "                      |\n",
    "                    chatgpt\n",
    "                      |\n",
    "                    StrOutputParser() # extracts the response as text and returns it as a string\n",
    ")\n",
    "\n",
    "# Initialize empty summaries\n",
    "text_summaries = []\n",
    "table_summaries = []\n",
    "\n",
    "text_docs = [doc.page_content for doc in docs]\n",
    "table_docs = [table.page_content for table in tables]\n",
    "\n",
    "text_summaries = summarize_chain.batch(text_docs, {\"max_concurrency\": 5})\n",
    "table_summaries = summarize_chain.batch(table_docs, {\"max_concurrency\": 5})\n",
    "\n",
    "len(text_summaries), len(table_summaries)"
   ]
  },
  {
   "cell_type": "code",
   "execution_count": null,
   "id": "e38a1e4f-e5ea-4258-9eed-bec50ef3d2f9",
   "metadata": {},
   "outputs": [],
   "source": [
    "text_summaries[0]"
   ]
  },
  {
   "cell_type": "code",
   "execution_count": null,
   "id": "18840116-269a-419f-ad75-a574ba00e777",
   "metadata": {},
   "outputs": [],
   "source": [
    "table_summaries[0]"
   ]
  },
  {
   "cell_type": "code",
   "execution_count": null,
   "id": "b97e35e8-e966-453d-8ba5-80fe57b7f001",
   "metadata": {},
   "outputs": [],
   "source": [
    "import base64\n",
    "import os\n",
    "\n",
    "from langchain_core.messages import HumanMessage\n",
    "\n",
    "\n",
    "def encode_image(image_path):\n",
    "    \"\"\"Getting the base64 string\"\"\"\n",
    "    with open(image_path, \"rb\") as image_file:\n",
    "        return base64.b64encode(image_file.read()).decode(\"utf-8\")\n",
    "\n",
    "\n",
    "def image_summarize(img_base64, prompt):\n",
    "    \"\"\"Make image summary\"\"\"\n",
    "    chat = ChatOpenAI(model=\"gpt-4o\", temperature=0)\n",
    "\n",
    "    msg = chat.invoke(\n",
    "        [\n",
    "            HumanMessage(\n",
    "                content=[\n",
    "                    {\"type\": \"text\", \"text\": prompt},\n",
    "                    {\n",
    "                        \"type\": \"image_url\",\n",
    "                        \"image_url\": {\"url\": f\"data:image/jpeg;base64,{img_base64}\"},\n",
    "                    },\n",
    "                ]\n",
    "            )\n",
    "        ]\n",
    "    )\n",
    "    return msg.content\n",
    "\n",
    "\n",
    "def generate_img_summaries(path):\n",
    "    \"\"\"\n",
    "    Generate summaries and base64 encoded strings for images\n",
    "    path: Path to list of .jpg files extracted by Unstructured\n",
    "    \"\"\"\n",
    "\n",
    "    # Store base64 encoded images\n",
    "    img_base64_list = []\n",
    "\n",
    "    # Store image summaries\n",
    "    image_summaries = []\n",
    "\n",
    "    # Prompt\n",
    "    prompt = \"\"\"You are an assistant tasked with summarizing images for retrieval.\n",
    "                Remember these images could potentially contain graphs, charts or tables also.\n",
    "                These summaries will be embedded and used to retrieve the raw image for question answering.\n",
    "                Give a detailed summary of the image that is well optimized for retrieval.\n",
    "                Do not add additional words like Summary: etc.\n",
    "             \"\"\"\n",
    "\n",
    "    # Apply to images\n",
    "    for img_file in sorted(os.listdir(path)):\n",
    "        if img_file.endswith(\".jpg\"):\n",
    "            img_path = os.path.join(path, img_file)\n",
    "            base64_image = encode_image(img_path)\n",
    "            img_base64_list.append(base64_image)\n",
    "            image_summaries.append(image_summarize(base64_image, prompt))\n",
    "\n",
    "    return img_base64_list, image_summaries\n",
    "\n",
    "\n",
    "# Image summaries\n",
    "IMG_PATH = './figures'\n",
    "imgs_base64, image_summaries = generate_img_summaries(IMG_PATH)"
   ]
  },
  {
   "cell_type": "code",
   "execution_count": null,
   "id": "aa52a23b-a066-44da-bf38-cf968b2cc591",
   "metadata": {},
   "outputs": [],
   "source": [
    "len(imgs_base64), len(image_summaries)"
   ]
  },
  {
   "cell_type": "code",
   "execution_count": null,
   "id": "00647118-a0a0-4ba0-a93c-a1aaa9f26ac7",
   "metadata": {},
   "outputs": [],
   "source": [
    "display(Image('./figures/figure-1-2.jpg'))"
   ]
  },
  {
   "cell_type": "code",
   "execution_count": null,
   "id": "f1d74551-49e6-4ff9-9c30-782349d2d34a",
   "metadata": {},
   "outputs": [],
   "source": [
    "image_summaries[1]"
   ]
  },
  {
   "cell_type": "code",
   "execution_count": null,
   "id": "59da4116-e124-416b-ab64-a6755c1f53b9",
   "metadata": {},
   "outputs": [],
   "source": [
    "from langchain_openai import OpenAIEmbeddings\n",
    "\n",
    "# details here: https://openai.com/blog/new-embedding-models-and-api-updates\n",
    "openai_embed_model = OpenAIEmbeddings(model='text-embedding-3-small')"
   ]
  },
  {
   "cell_type": "code",
   "execution_count": null,
   "id": "06710a3d-0c20-4936-88a0-9f144407d45a",
   "metadata": {},
   "outputs": [],
   "source": [
    "docs[0]"
   ]
  },
  {
   "cell_type": "code",
   "execution_count": null,
   "id": "c1e35d6f-8488-46b6-a12b-31d2cc481dfc",
   "metadata": {},
   "outputs": [],
   "source": [
    "import uuid\n",
    "\n",
    "from langchain.retrievers.multi_vector import MultiVectorRetriever\n",
    "from langchain_community.storage import RedisStore\n",
    "from langchain_community.utilities.redis import get_client\n",
    "from langchain_chroma import Chroma\n",
    "from langchain_core.documents import Document\n",
    "from langchain_openai import OpenAIEmbeddings\n",
    "\n",
    "\n",
    "def create_multi_vector_retriever(\n",
    "    docstore, vectorstore, text_summaries, texts, table_summaries, tables, image_summaries, images\n",
    "):\n",
    "    \"\"\"\n",
    "    Create retriever that indexes summaries, but returns raw images or texts\n",
    "    \"\"\"\n",
    "\n",
    "\n",
    "    id_key = \"doc_id\"\n",
    "\n",
    "    # Create the multi-vector retriever\n",
    "    retriever = MultiVectorRetriever(\n",
    "        vectorstore=vectorstore,\n",
    "        docstore=docstore,\n",
    "        id_key=id_key,\n",
    "    )\n",
    "\n",
    "    # Helper function to add documents to the vectorstore and docstore\n",
    "    def add_documents(retriever, doc_summaries, doc_contents):\n",
    "        doc_ids = [str(uuid.uuid4()) for _ in doc_contents]\n",
    "        summary_docs = [\n",
    "            Document(page_content=s, metadata={id_key: doc_ids[i]})\n",
    "            for i, s in enumerate(doc_summaries)\n",
    "        ]\n",
    "        retriever.vectorstore.add_documents(summary_docs)\n",
    "        retriever.docstore.mset(list(zip(doc_ids, doc_contents)))\n",
    "\n",
    "    # Add texts, tables, and images\n",
    "    # Check that text_summaries is not empty before adding\n",
    "    if text_summaries:\n",
    "        add_documents(retriever, text_summaries, texts)\n",
    "    # Check that table_summaries is not empty before adding\n",
    "    if table_summaries:\n",
    "        add_documents(retriever, table_summaries, tables)\n",
    "    # Check that image_summaries is not empty before adding\n",
    "    if image_summaries:\n",
    "        add_documents(retriever, image_summaries, images)\n",
    "\n",
    "    return retriever\n",
    "\n",
    "\n",
    "# The vectorstore to use to index the summaries and their embeddings\n",
    "chroma_db = Chroma(\n",
    "    collection_name=\"mm_rag\",\n",
    "    embedding_function=openai_embed_model,\n",
    "    collection_metadata={\"hnsw:space\": \"cosine\"},\n",
    ")\n",
    "\n",
    "# Initialize the storage layer - to store raw images, text and tables\n",
    "client = get_client('redis://localhost:6379')\n",
    "redis_store = RedisStore(client=client) # you can use filestore, memorystory, any other DB store also\n",
    "\n",
    "# Create retriever\n",
    "retriever_multi_vector = create_multi_vector_retriever(\n",
    "    redis_store,\n",
    "    chroma_db,\n",
    "    text_summaries,\n",
    "    text_docs,\n",
    "    table_summaries,\n",
    "    table_docs,\n",
    "    image_summaries,\n",
    "    imgs_base64,\n",
    ")"
   ]
  },
  {
   "cell_type": "code",
   "execution_count": null,
   "id": "6f16ab3f-ed26-435f-b7e6-d19a6612477e",
   "metadata": {},
   "outputs": [],
   "source": [
    "retriever_multi_vector"
   ]
  },
  {
   "cell_type": "code",
   "execution_count": null,
   "id": "4ffecf2d-487e-4919-8520-5a6d92576094",
   "metadata": {},
   "outputs": [],
   "source": [
    "from IPython.display import HTML, display, Image\n",
    "from PIL import Image\n",
    "import base64\n",
    "from io import BytesIO\n",
    "\n",
    "def plt_img_base64(img_base64):\n",
    "    \"\"\"Disply base64 encoded string as image\"\"\"\n",
    "    # Decode the base64 string\n",
    "    img_data = base64.b64decode(img_base64)\n",
    "    # Create a BytesIO object\n",
    "    img_buffer = BytesIO(img_data)\n",
    "    # Open the image using PIL\n",
    "    img = Image.open(img_buffer)\n",
    "    display(img)"
   ]
  },
  {
   "cell_type": "code",
   "execution_count": null,
   "id": "2df70840-2470-4a8f-9cb1-2a12805594db",
   "metadata": {},
   "outputs": [],
   "source": [
    "# Check retrieval\n",
    "query = \"Tell me about the annual wildfires trend with acres burned\"\n",
    "docs = retriever_multi_vector.invoke(query, limit=5)\n",
    "\n",
    "# We get 4 docs\n",
    "len(docs)"
   ]
  },
  {
   "cell_type": "code",
   "execution_count": null,
   "id": "41eb233e-3cda-4cac-8667-d97eca0ffd32",
   "metadata": {},
   "outputs": [],
   "source": [
    "docs"
   ]
  },
  {
   "cell_type": "code",
   "execution_count": null,
   "id": "f0bd53dd-de65-4d37-8ad3-cc2651d914ab",
   "metadata": {},
   "outputs": [],
   "source": [
    "plt_img_base64(docs[3])"
   ]
  },
  {
   "cell_type": "code",
   "execution_count": null,
   "id": "cb7fe903-5cc3-4266-b028-3a605085a190",
   "metadata": {},
   "outputs": [],
   "source": [
    "# Check retrieval\n",
    "query = \"Tell me about the percentage of residences burned by wildfires in 2022\"\n",
    "docs = retriever_multi_vector.invoke(query, limit=5)\n",
    "\n",
    "# We get 4 docs\n",
    "len(docs)"
   ]
  },
  {
   "cell_type": "code",
   "execution_count": null,
   "id": "b9b00119-4d6f-4689-9c12-2f6d2b76e053",
   "metadata": {},
   "outputs": [],
   "source": [
    "docs"
   ]
  },
  {
   "cell_type": "code",
   "execution_count": null,
   "id": "b0c4e9fe-306a-45f1-bdfe-2d7a11184e51",
   "metadata": {},
   "outputs": [],
   "source": [
    "import re\n",
    "import base64\n",
    "\n",
    "def looks_like_base64(sb):\n",
    "    \"\"\"Check if the string looks like base64\"\"\"\n",
    "    return re.match(\"^[A-Za-z0-9+/]+[=]{0,2}$\", sb) is not None\n",
    "\n",
    "\n",
    "def is_image_data(b64data):\n",
    "    \"\"\"\n",
    "    Check if the base64 data is an image by looking at the start of the data\n",
    "    \"\"\"\n",
    "    image_signatures = {\n",
    "        b\"\\xff\\xd8\\xff\": \"jpg\",\n",
    "        b\"\\x89\\x50\\x4e\\x47\\x0d\\x0a\\x1a\\x0a\": \"png\",\n",
    "        b\"\\x47\\x49\\x46\\x38\": \"gif\",\n",
    "        b\"\\x52\\x49\\x46\\x46\": \"webp\",\n",
    "    }\n",
    "    try:\n",
    "        header = base64.b64decode(b64data)[:8]  # Decode and get the first 8 bytes\n",
    "        for sig, format in image_signatures.items():\n",
    "            if header.startswith(sig):\n",
    "                return True\n",
    "        return False\n",
    "    except Exception:\n",
    "        return False\n",
    "\n",
    "\n",
    "def split_image_text_types(docs):\n",
    "    \"\"\"\n",
    "    Split base64-encoded images and texts\n",
    "    \"\"\"\n",
    "    b64_images = []\n",
    "    texts = []\n",
    "    for doc in docs:\n",
    "        # Check if the document is of type Document and extract page_content if so\n",
    "        if isinstance(doc, Document):\n",
    "            doc = doc.page_content.decode('utf-8')\n",
    "        else:\n",
    "            doc = doc.decode('utf-8')\n",
    "        if looks_like_base64(doc) and is_image_data(doc):\n",
    "            b64_images.append(doc)\n",
    "        else:\n",
    "            texts.append(doc)\n",
    "    return {\"images\": b64_images, \"texts\": texts}"
   ]
  },
  {
   "cell_type": "code",
   "execution_count": null,
   "id": "d5acecd4-9951-494a-9868-d4623e7e1e0a",
   "metadata": {},
   "outputs": [],
   "source": [
    "# Check retrieval\n",
    "query = \"Tell me detailed statistics of the top 5 years with largest wildfire acres burned\"\n",
    "docs = retriever_multi_vector.invoke(query, limit=5)\n",
    "\n",
    "# We get 4 docs\n",
    "len(docs)"
   ]
  },
  {
   "cell_type": "code",
   "execution_count": null,
   "id": "2c7b0dfc-98ae-419f-a6d0-7fd898ce5671",
   "metadata": {},
   "outputs": [],
   "source": [
    "docs"
   ]
  },
  {
   "cell_type": "code",
   "execution_count": null,
   "id": "8773bc84-4920-4f06-a9fe-b4d7fb622769",
   "metadata": {},
   "outputs": [],
   "source": [
    "is_image_data(docs[1].decode('utf-8'))"
   ]
  },
  {
   "cell_type": "code",
   "execution_count": null,
   "id": "71b4aae8-3426-491e-8691-9bfc15283741",
   "metadata": {},
   "outputs": [],
   "source": [
    "r = split_image_text_types(docs)\n",
    "r"
   ]
  },
  {
   "cell_type": "code",
   "execution_count": null,
   "id": "0a94141c-fa59-4971-8794-747bdfef8081",
   "metadata": {},
   "outputs": [],
   "source": [
    "plt_img_base64(docs[1].decode('utf-8'))"
   ]
  },
  {
   "cell_type": "code",
   "execution_count": null,
   "id": "da6dc7a5-8463-4b7c-913e-4745331ad49e",
   "metadata": {},
   "outputs": [],
   "source": [
    "from operator import itemgetter\n",
    "from langchain_core.runnables import RunnableLambda, RunnablePassthrough\n",
    "from langchain_core.messages import HumanMessage\n",
    "\n",
    "def multimodal_prompt_function(data_dict):\n",
    "    \"\"\"\n",
    "    Create a multimodal prompt with both text and image context.\n",
    "\n",
    "    This function formats the provided context from `data_dict`, which contains\n",
    "    text, tables, and base64-encoded images. It joins the text (with table) portions\n",
    "    and prepares the image(s) in a base64-encoded format to be included in a message.\n",
    "\n",
    "    The formatted text and images (context) along with the user question are used to\n",
    "    construct a prompt for GPT-4o\n",
    "    \"\"\"\n",
    "    formatted_texts = \"\\n\".join(data_dict[\"context\"][\"texts\"])\n",
    "    messages = []\n",
    "\n",
    "    # Adding image(s) to the messages if present\n",
    "    if data_dict[\"context\"][\"images\"]:\n",
    "        for image in data_dict[\"context\"][\"images\"]:\n",
    "            image_message = {\n",
    "                \"type\": \"image_url\",\n",
    "                \"image_url\": {\"url\": f\"data:image/jpeg;base64,{image}\"},\n",
    "            }\n",
    "            messages.append(image_message)\n",
    "\n",
    "    # Adding the text for analysis\n",
    "    text_message = {\n",
    "        \"type\": \"text\",\n",
    "        \"text\": (\n",
    "            f\"\"\"You are an analyst tasked with understanding detailed information and trends from text documents,\n",
    "                data tables, and charts and graphs in images.\n",
    "                You will be given context information below which will be a mix of text, tables, and images usually of charts or graphs.\n",
    "                Use this information to provide answers related to the user question.\n",
    "                Do not make up answers, use the provided context documents below and answer the question to the best of your ability.\n",
    "\n",
    "                User question:\n",
    "                {data_dict['question']}\n",
    "\n",
    "                Context documents:\n",
    "                {formatted_texts}\n",
    "\n",
    "                Answer:\n",
    "            \"\"\"\n",
    "        ),\n",
    "    }\n",
    "    messages.append(text_message)\n",
    "    return [HumanMessage(content=messages)]\n",
    "\n",
    "\n",
    "# Create RAG chain\n",
    "multimodal_rag = (\n",
    "        {\n",
    "            \"context\": itemgetter('context'),\n",
    "            \"question\": itemgetter('input'),\n",
    "        }\n",
    "            |\n",
    "        RunnableLambda(multimodal_prompt_function)\n",
    "            |\n",
    "        chatgpt\n",
    "            |\n",
    "        StrOutputParser()\n",
    ")\n",
    "\n",
    "# Pass input query to retriever and get context document elements\n",
    "retrieve_docs = (itemgetter('input')\n",
    "                    |\n",
    "                retriever_multi_vector\n",
    "                    |\n",
    "                RunnableLambda(split_image_text_types))\n",
    "\n",
    "# Below, we chain `.assign` calls. This takes a dict and successively\n",
    "# adds keys-- \"context\" and \"answer\"-- where the value for each key\n",
    "# is determined by a Runnable (function or chain executing at runtime).\n",
    "# This helps in also having the retrieved context along with the answer generated by GPT-4o\n",
    "multimodal_rag_w_sources = (RunnablePassthrough.assign(context=retrieve_docs)\n",
    "                                               .assign(answer=multimodal_rag)\n",
    ")"
   ]
  },
  {
   "cell_type": "code",
   "execution_count": null,
   "id": "54190e3f-407c-4576-bb2b-feb372c1de14",
   "metadata": {},
   "outputs": [],
   "source": [
    "# Run RAG chain\n",
    "query = \"Tell me detailed statistics of the top 5 years with largest wildfire acres burned\"\n",
    "response = multimodal_rag_w_sources.invoke({'input': query})\n",
    "response"
   ]
  },
  {
   "cell_type": "code",
   "execution_count": null,
   "id": "78dea60d-2853-487c-9107-6f495d817f9a",
   "metadata": {},
   "outputs": [],
   "source": [
    "def multimodal_rag_qa(query):\n",
    "    response = multimodal_rag_w_sources.invoke({'input': query})\n",
    "    print('=='*50)\n",
    "    print('Answer:')\n",
    "    display(Markdown(response['answer']))\n",
    "    print('--'*50)\n",
    "    print('Sources:')\n",
    "    text_sources = response['context']['texts']\n",
    "    img_sources = response['context']['images']\n",
    "    for text in text_sources:\n",
    "        display(Markdown(text))\n",
    "        print()\n",
    "    for img in img_sources:\n",
    "        plt_img_base64(img)\n",
    "        print()\n",
    "    print('=='*50)"
   ]
  },
  {
   "cell_type": "code",
   "execution_count": null,
   "id": "63165174-ebcc-4105-90b0-0ab33b760761",
   "metadata": {},
   "outputs": [],
   "source": [
    "query = \"Tell me detailed statistics of the top 5 years with largest wildfire acres burned\"\n",
    "multimodal_rag_qa(query)"
   ]
  },
  {
   "cell_type": "code",
   "execution_count": null,
   "id": "341db7a3-fa2e-48e0-a1a1-cdc8b2fad990",
   "metadata": {},
   "outputs": [],
   "source": [
    "# Run RAG chain\n",
    "query = \"Tell me about the annual wildfires trend with acres burned\"\n",
    "multimodal_rag_qa(query)"
   ]
  },
  {
   "cell_type": "code",
   "execution_count": null,
   "id": "0808f1dc-00d6-4b5c-880e-322427861755",
   "metadata": {},
   "outputs": [],
   "source": [
    "# Run RAG chain\n",
    "query = \"Tell me about the number of acres burned by wildfires for the forest service in 2021\"\n",
    "multimodal_rag_qa(query)"
   ]
  },
  {
   "cell_type": "code",
   "execution_count": null,
   "id": "3395fcab-0cdf-4bbb-a6f4-1d215d3352c9",
   "metadata": {},
   "outputs": [],
   "source": [
    "# Run RAG chain\n",
    "query = \"Tell me about the percentage of residences burned by wildfires in 2022\"\n",
    "multimodal_rag_qa(query)"
   ]
  }
 ],
 "metadata": {
  "kernelspec": {
   "display_name": "Python 3 (ipykernel)",
   "language": "python",
   "name": "python3"
  },
  "language_info": {
   "codemirror_mode": {
    "name": "ipython",
    "version": 3
   },
   "file_extension": ".py",
   "mimetype": "text/x-python",
   "name": "python",
   "nbconvert_exporter": "python",
   "pygments_lexer": "ipython3",
   "version": "3.10.12"
  }
 },
 "nbformat": 4,
 "nbformat_minor": 5
}
